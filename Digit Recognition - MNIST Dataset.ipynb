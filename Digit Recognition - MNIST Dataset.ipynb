{
 "cells": [
  {
   "cell_type": "markdown",
   "metadata": {},
   "source": [
    "## Importing Libraries\n",
    "- **torchvision** >> datasets that have to do with 'vision' (not used irl for the most part since you would want your own datasets)"
   ]
  },
  {
   "cell_type": "code",
   "execution_count": 1,
   "metadata": {},
   "outputs": [],
   "source": [
    "import torch\n",
    "import torchvision\n",
    "from torchvision import transforms, datasets\n",
    "import torch.nn as nn\n",
    "import torch.nn.functional as F\n",
    "import torch.optim as optim\n",
    "from PIL import Image\n",
    "from PIL import ImageOps\n",
    "import matplotlib.pyplot as plt"
   ]
  },
  {
   "cell_type": "markdown",
   "metadata": {},
   "source": [
    "## Training/Testing Datasets"
   ]
  },
  {
   "cell_type": "code",
   "execution_count": 2,
   "metadata": {},
   "outputs": [],
   "source": [
    "train = datasets.MNIST(\"\", train=True, download=True,\n",
    "                      transform = transforms.Compose([transforms.ToTensor()]))\n",
    "test = datasets.MNIST(\"\", train=False, download=True,\n",
    "                      transform = transforms.Compose([transforms.ToTensor()]))"
   ]
  },
  {
   "cell_type": "markdown",
   "metadata": {},
   "source": [
    "## Preprocessing Datasets"
   ]
  },
  {
   "cell_type": "code",
   "execution_count": 3,
   "metadata": {},
   "outputs": [],
   "source": [
    "trainset = torch.utils.data.DataLoader(train, batch_size=10, shuffle=True)\n",
    "testset = torch.utils.data.DataLoader(test, batch_size=10, shuffle=True)"
   ]
  },
  {
   "cell_type": "markdown",
   "metadata": {},
   "source": [
    "## Seeing a Data Point"
   ]
  },
  {
   "cell_type": "code",
   "execution_count": 4,
   "metadata": {},
   "outputs": [
    {
     "data": {
      "image/png": "[encoded data removed]",
      "text/plain": [
       "<Figure size 432x288 with 1 Axes>"
      ]
     },
     "metadata": {
      "needs_background": "light"
     },
     "output_type": "display_data"
    }
   ],
   "source": [
    "for data in trainset:\n",
    "    break\n",
    "\n",
    "x, y = data[0][0], data[1][0]\n",
    "\n",
    "# shape needs to be something like 28 x 28:\n",
    "plt.imshow(data[0][0].view(28, 28))\n",
    "plt.show()"
   ]
  },
  {
   "cell_type": "markdown",
   "metadata": {},
   "source": [
    "## Balancing Data\n",
    "- what if 60% of our training data is \"3\", then the model is going to learn that the quickest way to decrease loss is change the weights to predict a \"3\". "
   ]
  },
  {
   "cell_type": "code",
   "execution_count": 5,
   "metadata": {},
   "outputs": [
    {
     "name": "stdout",
     "output_type": "stream",
     "text": [
      "0: 9.871666666666666\n",
      "1: 11.236666666666666\n",
      "2: 9.93\n",
      "3: 10.218333333333334\n",
      "4: 9.736666666666666\n",
      "5: 9.035\n",
      "6: 9.863333333333333\n",
      "7: 10.441666666666666\n",
      "8: 9.751666666666667\n",
      "9: 9.915000000000001\n"
     ]
    }
   ],
   "source": [
    "total = 0\n",
    "counter_dict = {0:0, 1:0, 2:0, 3:0, 4:0, 5:0, 6:0, 7:0, 8:0, 9:0}\n",
    "\n",
    "for data in trainset:\n",
    "    Xs, Ys = data\n",
    "    for y in Ys:\n",
    "        counter_dict[int(y)] += 1\n",
    "        total += 1\n",
    "        \n",
    "for c in counter_dict:\n",
    "    print(f\"{c}: {(counter_dict[c]/total)*100}\")"
   ]
  },
  {
   "cell_type": "markdown",
   "metadata": {},
   "source": [
    "## Building a Model"
   ]
  },
  {
   "cell_type": "code",
   "execution_count": 6,
   "metadata": {},
   "outputs": [
    {
     "name": "stdout",
     "output_type": "stream",
     "text": [
      "Net(\n",
      "  (fc1): Linear(in_features=784, out_features=64, bias=True)\n",
      "  (fc2): Linear(in_features=64, out_features=64, bias=True)\n",
      "  (fc3): Linear(in_features=64, out_features=64, bias=True)\n",
      "  (fc4): Linear(in_features=64, out_features=10, bias=True)\n",
      ")\n"
     ]
    }
   ],
   "source": [
    "class Net(nn.Module):\n",
    "    def __init__(self):\n",
    "        super().__init__()\n",
    "        # \"fc\" means fully connected\n",
    "        self.fc1 = nn.Linear(784, 64)  # 784 = 28*28, 64 neurons for 3 hidden layers\n",
    "        self.fc2 = nn.Linear(64, 64)  # output can be anything\n",
    "        self.fc3 = nn.Linear(64, 64)\n",
    "        self.fc4 = nn.Linear(64, 10)  # THIS is the OUTPUT layer; we have 10 CLASSES (0-9)\n",
    "\n",
    "    def forward(self, x):\n",
    "        \"relu is the activation function\"\n",
    "        x = F.relu(self.fc1(x))\n",
    "        x = F.relu(self.fc2(x))\n",
    "        x = F.relu(self.fc3(x))\n",
    "        x = self.fc4(x)\n",
    "        return F.log_softmax(x, dim=1)  # what var do we want to sum the distributions to 1\n",
    "                  \n",
    "net = Net()\n",
    "print(net)"
   ]
  },
  {
   "cell_type": "markdown",
   "metadata": {},
   "source": [
    "## Optimizing & Testing Model"
   ]
  },
  {
   "cell_type": "markdown",
   "metadata": {},
   "source": [
    "### Sample Output"
   ]
  },
  {
   "cell_type": "code",
   "execution_count": 7,
   "metadata": {
    "scrolled": true
   },
   "outputs": [
    {
     "data": {
      "image/png": "[encoded data removed]",
      "text/plain": [
       "<Figure size 432x288 with 1 Axes>"
      ]
     },
     "metadata": {
      "needs_background": "light"
     },
     "output_type": "display_data"
    }
   ],
   "source": [
    "X = torch.rand((28, 28))\n",
    "X = X.view(-1, 28*28)  # -1 specifies that the input could be of varying shapes\n",
    "output = net(X)\n",
    "plt.imshow(X.view(28, 28))\n",
    "plt.show()"
   ]
  },
  {
   "cell_type": "markdown",
   "metadata": {},
   "source": [
    "### Loss\n",
    "- Measure of how wrong the predictions were \n",
    "- We want the loss to decrease over samples\n",
    "\n",
    "### Optimize \n",
    "- adjusts weights with the aim to lower loss\n",
    "    - based on learning rate we utilize"
   ]
  },
  {
   "cell_type": "code",
   "execution_count": 8,
   "metadata": {
    "scrolled": true
   },
   "outputs": [],
   "source": [
    "optimizer = optim.Adam(net.parameters(), lr=0.001)  # can help restrict model from adjusting weights of prefered layers\n",
    "                                        # learning rate: size of step taken by optimizer to best adjust weights\n",
    "EPOCHS = 3  # 3 whole passes through the dataset\n",
    "\n",
    "for epoch in range(EPOCHS):\n",
    "    for data in trainset:\n",
    "        # data is a batch of featuresets and labels\n",
    "        X, y = data\n",
    "        net.zero_grad()\n",
    "        output = net(X.view(-1, 28*28))\n",
    "        loss = F.nll_loss(output, y)\n",
    "        loss.backward()  # back propogating loss\n",
    "        optimizer.step()  # to adjust the weights"
   ]
  },
  {
   "cell_type": "markdown",
   "metadata": {},
   "source": [
    "## Showing Accuracy of Model"
   ]
  },
  {
   "cell_type": "code",
   "execution_count": 9,
   "metadata": {},
   "outputs": [
    {
     "name": "stdout",
     "output_type": "stream",
     "text": [
      "Number Correct: 58333 out of: 60000\n",
      "Accuracy:  0.972\n"
     ]
    }
   ],
   "source": [
    "correct = 0\n",
    "total = 0 \n",
    "\n",
    "with torch.no_grad():  # evaluating the model, so we don't want to calculate loss\n",
    "    for data in trainset:\n",
    "        X, y = data\n",
    "        output = net(X.view(-1, 784))\n",
    "        for idx, i in enumerate(output):\n",
    "            if torch.argmax(i) == y[idx]:\n",
    "                correct += 1\n",
    "            total += 1\n",
    "print(\"Number Correct:\", correct, \"out of:\", total)\n",
    "print(\"Accuracy: \", round(correct/total, 3))"
   ]
  },
  {
   "cell_type": "code",
   "execution_count": 10,
   "metadata": {
    "scrolled": true
   },
   "outputs": [
    {
     "name": "stdout",
     "output_type": "stream",
     "text": [
      "torch.Size([1, 28, 28])\n"
     ]
    },
    {
     "data": {
      "image/png": "[encoded data removed]",
      "text/plain": [
       "<Figure size 432x288 with 1 Axes>"
      ]
     },
     "metadata": {
      "needs_background": "light"
     },
     "output_type": "display_data"
    },
    {
     "name": "stdout",
     "output_type": "stream",
     "text": [
      "tensor(9, grad_fn=<NotImplemented>)\n"
     ]
    }
   ],
   "source": [
    "print(X[2].shape)\n",
    "plt.imshow(X[2].view(28, 28), cmap='gray')\n",
    "plt.show()\n",
    "# prediction\n",
    "print(torch.argmax(net(X[2].view(-1, 784))[0]))"
   ]
  },
  {
   "cell_type": "markdown",
   "metadata": {},
   "source": [
    "## TESTING ON UNSEEN IMAGES"
   ]
  },
  {
   "cell_type": "code",
   "execution_count": 11,
   "metadata": {
    "scrolled": false
   },
   "outputs": [
    {
     "data": {
      "image/png": "[encoded data removed]",
      "text/plain": [
       "<Figure size 432x288 with 1 Axes>"
      ]
     },
     "metadata": {
      "needs_background": "light"
     },
     "output_type": "display_data"
    },
    {
     "name": "stdout",
     "output_type": "stream",
     "text": [
      "tensor(2, grad_fn=<NotImplemented>)\n"
     ]
    }
   ],
   "source": [
    "p = transforms.Compose([transforms.Resize((28,28))])\n",
    "\n",
    "test_img = Image.open('C:\\\\Users\\\\mistr\\\\AppData\\\\Local\\\\Programs\\\\Python\\\\Python37\\\\Scripts\\\\Machine Learning Projects\\\\Deep Learning\\\\two_test.jpeg')\n",
    "\n",
    "if test_img.mode == 'RGBA':\n",
    "    r, g, b, a = test_img.split()\n",
    "    rgb = Image.merge('RGB', (r, g, b))\n",
    "    inv = ImageOps.invert(rgb)\n",
    "    r, g, b = inv.split()\n",
    "    test_img = Image.merge('RGBA', (r, g, b, a))\n",
    "else:\n",
    "    test_img = ImageOps.invert(test_img)\n",
    "\n",
    "test_img = p(test_img)\n",
    "t = transforms.Compose([transforms.ToTensor()])\n",
    "test_img_tensor = t(test_img)\n",
    "test_img_tensor = test_img_tensor.view(-1, 28 * 28)\n",
    "plt.imshow(test_img_tensor[1].view(28, 28), cmap='gray')\n",
    "plt.show()\n",
    "# prediction\n",
    "print(torch.argmax(net(test_img_tensor[1].view(-1, 784))[0]))"
   ]
  },
  {
   "cell_type": "markdown",
   "metadata": {},
   "source": [
    "# PYGAME HAND-WRITTEN DIGIT RECOGNIZER"
   ]
  },
  {
   "cell_type": "code",
   "execution_count": 12,
   "metadata": {},
   "outputs": [
    {
     "name": "stdout",
     "output_type": "stream",
     "text": [
      "pygame 1.9.6\n",
      "Hello from the pygame community. https://www.pygame.org/contribute.html\n"
     ]
    },
    {
     "data": {
      "text/plain": [
       "(6, 0)"
      ]
     },
     "execution_count": 12,
     "metadata": {},
     "output_type": "execute_result"
    }
   ],
   "source": [
    "import pygame\n",
    "\n",
    "# Initializing pygame\n",
    "pygame.init()"
   ]
  },
  {
   "cell_type": "code",
   "execution_count": 49,
   "metadata": {
    "scrolled": true
   },
   "outputs": [],
   "source": [
    "# finals\n",
    "SCREEN_WIDTH = 700\n",
    "SCREEN_HEIGHT = 600\n",
    "\n",
    "# colors\n",
    "BG_COLOR = (0, 0, 0)\n",
    "WHITE = (255, 255, 255)\n",
    "SAVE_BTN = (124, 205, 235)\n",
    "SAVE_FONT = (255, 82, 99)\n",
    "NUMBER_LABEL = (242, 238, 111)\n",
    "\n",
    "# Setting up main screen\n",
    "display = pygame.display.set_mode((SCREEN_WIDTH, SCREEN_HEIGHT))\n",
    "pygame.display.set_caption(\"Digit Recognition - MNIST\")\n",
    "display.fill(BG_COLOR)\n",
    "\n",
    "class Spot:\n",
    "    def __init__(self, pos_x=0, pos_y=0, color=WHITE):\n",
    "        # validating whether the coordinates of the spots will fit in the grid\n",
    "        if pos_x <= SCREEN_WIDTH - 20:\n",
    "            self.pos_x = pos_x\n",
    "        else:\n",
    "            self.pos_x = 0\n",
    "        if pos_y <= SCREEN_HEIGHT - 20:\n",
    "            self.pos_y = pos_y\n",
    "        else:\n",
    "            self.pos_y = 0\n",
    "        self.color = color\n",
    "            \n",
    "    def draw(self):\n",
    "        \"\"\"this method will draw the spot on the grid\"\"\"\n",
    "        pygame.draw.rect(display, self.color, [self.pos_x, self.pos_y, 20, 20])\n",
    "        \n",
    "\n",
    "# drawing save button\n",
    "def draw_save():\n",
    "    pygame.draw.rect(display, SAVE_BTN, [0, 560, 700, 40])\n",
    "    font = pygame.font.Font('freesansbold.ttf', 20)\n",
    "    save_text = font.render(\"SAVE\", True, SAVE_FONT)\n",
    "    text_rect = save_text.get_rect()\n",
    "    text_rect.center = (350, 580)\n",
    "    display.blit(save_text, text_rect)    \n",
    "\n",
    "    \n",
    "# drawing identified number\n",
    "def draw_identified_number(num):\n",
    "    pygame.draw.rect(display, NUMBER_LABEL, [0, 0, 700, 40])\n",
    "    font = pygame.font.Font('freesansbold.ttf', 35)\n",
    "    num_text = font.render(str(num), True, SAVE_FONT)\n",
    "    text_rect = num_text.get_rect()\n",
    "    text_rect.center = (340, 20)\n",
    "    display.blit(num_text, text_rect) \n",
    "    \n",
    "    \n",
    "# number spots\n",
    "number_spots = []\n",
    "\n",
    "once = False\n",
    "        \n",
    "# run loop for pygame\n",
    "running = True\n",
    "while running:\n",
    "    for event in pygame.event.get():\n",
    "        if event.type == pygame.QUIT:\n",
    "            running = False\n",
    "    \n",
    "    # adding obstacles with left-click\n",
    "    if pygame.mouse.get_pressed()[0]:\n",
    "        if ((event.pos[1] // 20) * 20 < 560) and ((event.pos[1] // 20) * 20 > 40):\n",
    "            number_spots.append(((event.pos[0] // 20) * 20, (event.pos[1] // 20) * 20))\n",
    "            once = False\n",
    "        try:\n",
    "            # number spot instance\n",
    "            number_spot = Spot(number_spots[-1][0], number_spots[-1][1])\n",
    "            number_spot.draw()\n",
    "        except IndexError:\n",
    "            pass\n",
    "    # removing obstacles with right-click\n",
    "    if pygame.mouse.get_pressed()[2]:\n",
    "        if ((event.pos[0] // 20) * 20, (event.pos[1] // 20) * 20) in number_spots:\n",
    "            number_spots.remove(((event.pos[0] // 20) * 20, (event.pos[1] // 20) * 20))\n",
    "            Spot(pos_x=(event.pos[0] // 20) * 20, pos_y=(event.pos[1] // 20) * 20, color=BG_COLOR).draw()\n",
    "    \n",
    "    # detecting save btn click\n",
    "    if pygame.mouse.get_pressed()[0]:\n",
    "        if ((event.pos[1] // 20) * 20 >= 560):\n",
    "            if not once:\n",
    "                # saving drawn image\n",
    "                pygame.image.save(display, \"drawn_number.jpeg\")\n",
    "                # RECOGNIZING THE NUMBER DRAWN\n",
    "                # grabbing the saved image\n",
    "                test_img = Image.open('drawn_number.jpeg')\n",
    "                # cropping the image to not include the blue save btn on the bottom\n",
    "                border = (0, 40, 700, 560)\n",
    "                test_img = test_img.crop(border)\n",
    "                # resizing the image to a 28 x 28\n",
    "                p = transforms.Compose([transforms.Resize((28, 28))])\n",
    "                test_img = p(test_img)\n",
    "                # prediction\n",
    "                t = transforms.Compose([transforms.ToTensor()])\n",
    "                test_img_tensor = t(test_img)\n",
    "                test_img_tensor = test_img_tensor.view(-1, 28 * 28)\n",
    "                x = torch.argmax(net(test_img_tensor[1].view(-1, 784))[0]).item()\n",
    "                display.fill(BG_COLOR)\n",
    "                draw_identified_number(x)\n",
    "                number_spots.clear()\n",
    "                once = True\n",
    "    \n",
    "    # drawing save button\n",
    "    draw_save()    \n",
    "    \n",
    "    # updating pygame\n",
    "    pygame.display.update()\n",
    "pygame.display.quit()"
   ]
  }
 ],
 "metadata": {
  "kernelspec": {
   "display_name": "Python 3",
   "language": "python",
   "name": "python3"
  },
  "language_info": {
   "codemirror_mode": {
    "name": "ipython",
    "version": 3
   },
   "file_extension": ".py",
   "mimetype": "text/x-python",
   "name": "python",
   "nbconvert_exporter": "python",
   "pygments_lexer": "ipython3",
   "version": "3.7.4"
  }
 },
 "nbformat": 4,
 "nbformat_minor": 4
}
